{
 "cells": [
  {
   "cell_type": "markdown",
   "id": "b67d1601-5062-4406-bc51-6fc2455fae0f",
   "metadata": {},
   "source": [
    "# Exercise 6.4 Supervised Machine Learning: Regression"
   ]
  },
  {
   "cell_type": "markdown",
   "id": "f38969e9-33d8-409e-b800-7973d99de549",
   "metadata": {},
   "source": [
    "# Linear Regression Analysis:\n",
    "## The variable \"Number of Mentions\" will be used as the predictor for \"COVID-19 Deaths\".\n",
    "### Each row represents a specific condition for a given age group, state, and time period.\n",
    "### The \"Number of Mentions\" variable indicates how many times that specific condition was mentioned on death certificates.\n",
    "### The \"COVID-19 Deaths\" variable represents the number of COVID-19 related deaths for that combination of condition, age group, state, and time period.\n",
    "### Based on the previous analysis in exercise 6.2, these two variables are closely related.\n",
    "### The linear regression analysis will be used to further explore the relationship between these two variables."
   ]
  },
  {
   "cell_type": "markdown",
   "id": "5778fbec-16cf-41c3-974c-d29e7f8c5c83",
   "metadata": {},
   "source": [
    "# Contents:"
   ]
  },
  {
   "cell_type": "markdown",
   "id": "86f6f7f4-8816-45f3-9aab-7f4167777815",
   "metadata": {},
   "source": [
    "    0. Import Libraries\n",
    "    1. Loading and Checking the Data\n",
    "    2. Clean the Data\n",
    "    3. Exploratory Data Analysis\n",
    "    4. State Hypothesis\n",
    "    5. Reshape Variables into NumPy Arrays\n",
    "    6. Split the Data into Training and Test Sets\n",
    "    7. Run a Linear Regression on the Data\n",
    "    8. Visualize the Results\n",
    "    9. Interpretation of the Results\n",
    "    10. Check Model Performance Statistics\n",
    "    11. Compare the Predicted y Values with the Actual y Values in a Dataframe\n",
    "    12. Interpretation"
   ]
  },
  {
   "cell_type": "markdown",
   "id": "6418178d-c6c2-4da4-95d2-3876b23a20c1",
   "metadata": {},
   "source": [
    "# 0. Import Libraries"
   ]
  },
  {
   "cell_type": "code",
   "execution_count": 1,
   "id": "de909c4e-0ab1-4f26-85bb-e91c03a89ac1",
   "metadata": {},
   "outputs": [],
   "source": [
    "import pandas as pd\n",
    "import numpy as np\n",
    "import os\n",
    "import matplotlib.pyplot as plt\n",
    "import seaborn as sns\n",
    "from sklearn.model_selection import train_test_split, cross_val_score\n",
    "from sklearn.linear_model import LinearRegression\n",
    "from sklearn.metrics import mean_squared_error, r2_score"
   ]
  },
  {
   "cell_type": "markdown",
   "id": "7dfd379f-aa8c-474b-a884-0dcd742b7f45",
   "metadata": {},
   "source": [
    "# 1. Loading and Checking the Data"
   ]
  },
  {
   "cell_type": "code",
   "execution_count": 2,
   "id": "7e187fee-1251-4deb-9259-39592b38a2ce",
   "metadata": {},
   "outputs": [],
   "source": [
    "# Define the path to the data files\n",
    "path = r'/Users/sijju/Downloads/Data analysis/Data Immersion/Acheivement 6/Project'"
   ]
  },
  {
   "cell_type": "code",
   "execution_count": 3,
   "id": "5fc2d827-7d43-4dd5-8b27-f406c89e4e54",
   "metadata": {},
   "outputs": [],
   "source": [
    "# Load the dataset on COVID-19 deaths and contributing conditions as \"df_cov_19\"\n",
    "df_cov_19 = pd.read_csv(os.path.join(path, '02 Data', 'Prepared Data', \n",
    "                                    'Cleaned_Conditions_Contributing_to_COVID-19_Deaths_by_State_and_Age_Provisional_2020-2023.csv'))"
   ]
  },
  {
   "cell_type": "code",
   "execution_count": 4,
   "id": "b899fbe7-1b1d-4766-ad0c-c38c78e85739",
   "metadata": {},
   "outputs": [
    {
     "name": "stdout",
     "output_type": "stream",
     "text": [
      "   Data As Of  Start Date    End Date    Year  Month    State  \\\n",
      "0  2023-09-24  2020-01-01  2020-01-31  2020.0    1.0  Alabama   \n",
      "1  2023-09-24  2020-02-01  2020-02-29  2020.0    2.0  Alabama   \n",
      "2  2023-09-24  2020-03-01  2020-03-31  2020.0    3.0  Alabama   \n",
      "3  2023-09-24  2020-04-01  2020-04-30  2020.0    4.0  Alabama   \n",
      "4  2023-09-24  2020-05-01  2020-05-31  2020.0    5.0  Alabama   \n",
      "\n",
      "        Condition Group                Condition ICD10_codes Age Group  \\\n",
      "0  Respiratory diseases  Influenza and pneumonia     J09-J18      0-24   \n",
      "1  Respiratory diseases  Influenza and pneumonia     J09-J18      0-24   \n",
      "2  Respiratory diseases  Influenza and pneumonia     J09-J18      0-24   \n",
      "3  Respiratory diseases  Influenza and pneumonia     J09-J18      0-24   \n",
      "4  Respiratory diseases  Influenza and pneumonia     J09-J18      0-24   \n",
      "\n",
      "   COVID-19 Deaths  Number of Mentions Flag  \n",
      "0              0.0                 0.0  NaN  \n",
      "1              0.0                 0.0  NaN  \n",
      "2              0.0                 0.0  NaN  \n",
      "3              0.0                 0.0  NaN  \n",
      "4              0.0                 0.0  NaN  \n",
      "<class 'pandas.core.frame.DataFrame'>\n",
      "RangeIndex: 430560 entries, 0 to 430559\n",
      "Data columns (total 13 columns):\n",
      " #   Column              Non-Null Count   Dtype  \n",
      "---  ------              --------------   -----  \n",
      " 0   Data As Of          430560 non-null  object \n",
      " 1   Start Date          430560 non-null  object \n",
      " 2   End Date            430560 non-null  object \n",
      " 3   Year                430560 non-null  float64\n",
      " 4   Month               430560 non-null  float64\n",
      " 5   State               430560 non-null  object \n",
      " 6   Condition Group     430560 non-null  object \n",
      " 7   Condition           430560 non-null  object \n",
      " 8   ICD10_codes         430560 non-null  object \n",
      " 9   Age Group           430560 non-null  object \n",
      " 10  COVID-19 Deaths     430560 non-null  float64\n",
      " 11  Number of Mentions  430560 non-null  float64\n",
      " 12  Flag                150829 non-null  object \n",
      "dtypes: float64(4), object(9)\n",
      "memory usage: 42.7+ MB\n",
      "None\n"
     ]
    },
    {
     "data": {
      "text/plain": [
       "(430560, 13)"
      ]
     },
     "execution_count": 4,
     "metadata": {},
     "output_type": "execute_result"
    }
   ],
   "source": [
    "# Checking the dataset is correctly loaded\n",
    "print(df_cov_19.head())\n",
    "print(df_cov_19.info())\n",
    "df_cov_19.shape"
   ]
  },
  {
   "cell_type": "markdown",
   "id": "c0a9bf72-3063-41d9-861a-01e338df71eb",
   "metadata": {},
   "source": [
    "# 2. Clean the Data"
   ]
  },
  {
   "cell_type": "code",
   "execution_count": 5,
   "id": "64cb12a7-422b-4e2c-b6fc-2d56fcb4c329",
   "metadata": {},
   "outputs": [],
   "source": [
    "# Select only the numeric columns necessary for analysis\n",
    "df_cov_19_numeric = df_cov_19[['Number of Mentions', 'COVID-19 Deaths']]"
   ]
  },
  {
   "cell_type": "code",
   "execution_count": 6,
   "id": "d9aa017d-e435-4200-ac3b-97a5db341721",
   "metadata": {},
   "outputs": [
    {
     "name": "stdout",
     "output_type": "stream",
     "text": [
      "   Number of Mentions  COVID-19 Deaths\n",
      "0                 0.0              0.0\n",
      "1                 0.0              0.0\n",
      "2                 0.0              0.0\n",
      "3                 0.0              0.0\n",
      "4                 0.0              0.0\n",
      "<class 'pandas.core.frame.DataFrame'>\n",
      "RangeIndex: 430560 entries, 0 to 430559\n",
      "Data columns (total 2 columns):\n",
      " #   Column              Non-Null Count   Dtype  \n",
      "---  ------              --------------   -----  \n",
      " 0   Number of Mentions  430560 non-null  float64\n",
      " 1   COVID-19 Deaths     430560 non-null  float64\n",
      "dtypes: float64(2)\n",
      "memory usage: 6.6 MB\n",
      "None\n"
     ]
    },
    {
     "data": {
      "text/plain": [
       "(430560, 2)"
      ]
     },
     "execution_count": 6,
     "metadata": {},
     "output_type": "execute_result"
    }
   ],
   "source": [
    "# Verify results of the changes\n",
    "print(df_cov_19_numeric.head())\n",
    "print(df_cov_19_numeric.info())\n",
    "df_cov_19_numeric.shape"
   ]
  },
  {
   "cell_type": "markdown",
   "id": "a49b27c2-5644-4bb7-a7ae-ae99a7972788",
   "metadata": {},
   "source": [
    "# 3. Exploratory Data Analysis"
   ]
  },
  {
   "cell_type": "code",
   "execution_count": 7,
   "id": "fc6daae9-46dc-4bd0-bfc9-adffcea1854f",
   "metadata": {},
   "outputs": [
    {
     "data": {
      "image/png": "[encoded data removed]",
      "text/plain": [
       "<Figure size 1000x600 with 1 Axes>"
      ]
     },
     "metadata": {},
     "output_type": "display_data"
    }
   ],
   "source": [
    "# Scatterplot to visualize the relationship between Number of Mentions and COVID-19 Deaths\n",
    "plt.figure(figsize=(10, 6))\n",
    "sns.scatterplot(data=df_cov_19_numeric, x='Number of Mentions', y='COVID-19 Deaths')\n",
    "plt.title('Scatterplot of COVID-19 Deaths vs Number of Mentions')\n",
    "plt.xlabel('Number of Mentions')\n",
    "plt.ylabel('COVID-19 Deaths')\n",
    "plt.show()"
   ]
  },
  {
   "cell_type": "markdown",
   "id": "ee929e05-1d05-44f2-ac5c-86723e42e897",
   "metadata": {},
   "source": [
    "# 4. State Hypothesis"
   ]
  },
  {
   "cell_type": "markdown",
   "id": "dcfce2fb-712b-4d8d-bcc1-bae58405584d",
   "metadata": {},
   "source": [
    "## Hypothesis: If the number of mentions of a condition on death certificates is higher, then the COVID-19 death count will be significantly higher."
   ]
  },
  {
   "cell_type": "markdown",
   "id": "3908861a-ca62-485e-892d-66c87cbbe9ac",
   "metadata": {},
   "source": [
    "# 5. Reshape Variables into NumPy Arrays"
   ]
  },
  {
   "cell_type": "markdown",
   "id": "1556d72c-6a90-412d-9439-2986637793b3",
   "metadata": {},
   "source": [
    "### X = the independent variable\n",
    "### Y = the dependent variable.\n",
    "### \"Number of Mentions\" is the predictor (independent variable) and \"COVID-19 Deaths\" is the response (dependent variable)"
   ]
  },
  {
   "cell_type": "code",
   "execution_count": 8,
   "id": "8aa5cf7a-3100-47ea-97c2-94a15c394697",
   "metadata": {},
   "outputs": [],
   "source": [
    "# Define the independent variable (x) and the dependent variable (y)\n",
    "X = df_cov_19_numeric['Number of Mentions'].values.reshape(-1, 1)\n",
    "y = df_cov_19_numeric['COVID-19 Deaths'].values"
   ]
  },
  {
   "cell_type": "markdown",
   "id": "2e31a76e-f4d3-415a-b741-7a4a5fb19bdc",
   "metadata": {},
   "source": [
    "# 6. Split the Data into Training and Test Sets"
   ]
  },
  {
   "cell_type": "code",
   "execution_count": 9,
   "id": "cb77bb43-027a-4105-932c-babc8489c0d1",
   "metadata": {},
   "outputs": [],
   "source": [
    " # 70% training, 30% test\n",
    "X_train, X_test, y_train, y_test = train_test_split(X, y, test_size=0.3, random_state=18)"
   ]
  },
  {
   "cell_type": "code",
   "execution_count": 10,
   "id": "4840ee60-7c4e-4b0f-a9b8-e54bbbe97daa",
   "metadata": {},
   "outputs": [
    {
     "name": "stdout",
     "output_type": "stream",
     "text": [
      "X_train shape: (301392, 1)\n",
      "X_test shape: (129168, 1)\n",
      "y_train shape: (301392,)\n",
      "y_test shape: (129168,)\n"
     ]
    }
   ],
   "source": [
    "# Verify the shape of the training and test sets\n",
    "print(f'X_train shape: {X_train.shape}')\n",
    "print(f'X_test shape: {X_test.shape}')\n",
    "print(f'y_train shape: {y_train.shape}')\n",
    "print(f'y_test shape: {y_test.shape}')"
   ]
  },
  {
   "cell_type": "markdown",
   "id": "4246068f-c795-4e73-a32f-b5d6084d7c80",
   "metadata": {},
   "source": [
    "# 7. Linear Regression"
   ]
  },
  {
   "cell_type": "markdown",
   "id": "60dfebe7-ff45-4bbc-9916-f322558f8db1",
   "metadata": {},
   "source": [
    "### Running a linear regression on the data by first fitting the model to the training set and then creating a prediction for y on the test set."
   ]
  },
  {
   "cell_type": "code",
   "execution_count": 11,
   "id": "48bd0e7d-ed7b-4fd7-8c5d-6285a09356b3",
   "metadata": {},
   "outputs": [],
   "source": [
    "# Initialize the linear regression model\n",
    "regression = LinearRegression()"
   ]
  },
  {
   "cell_type": "code",
   "execution_count": 12,
   "id": "968e9100-0878-4196-b7a3-339dc4c627ce",
   "metadata": {},
   "outputs": [
    {
     "data": {
      "text/html": [
       "<style>#sk-container-id-1 {color: black;background-color: white;}#sk-container-id-1 pre{padding: 0;}#sk-container-id-1 div.sk-toggleable {background-color: white;}#sk-container-id-1 label.sk-toggleable__label {cursor: pointer;display: block;width: 100%;margin-bottom: 0;padding: 0.3em;box-sizing: border-box;text-align: center;}#sk-container-id-1 label.sk-toggleable__label-arrow:before {content: \"▸\";float: left;margin-right: 0.25em;color: #696969;}#sk-container-id-1 label.sk-toggleable__label-arrow:hover:before {color: black;}#sk-container-id-1 div.sk-estimator:hover label.sk-toggleable__label-arrow:before {color: black;}#sk-container-id-1 div.sk-toggleable__content {max-height: 0;max-width: 0;overflow: hidden;text-align: left;background-color: #f0f8ff;}#sk-container-id-1 div.sk-toggleable__content pre {margin: 0.2em;color: black;border-radius: 0.25em;background-color: #f0f8ff;}#sk-container-id-1 input.sk-toggleable__control:checked~div.sk-toggleable__content {max-height: 200px;max-width: 100%;overflow: auto;}#sk-container-id-1 input.sk-toggleable__control:checked~label.sk-toggleable__label-arrow:before {content: \"▾\";}#sk-container-id-1 div.sk-estimator input.sk-toggleable__control:checked~label.sk-toggleable__label {background-color: #d4ebff;}#sk-container-id-1 div.sk-label input.sk-toggleable__control:checked~label.sk-toggleable__label {background-color: #d4ebff;}#sk-container-id-1 input.sk-hidden--visually {border: 0;clip: rect(1px 1px 1px 1px);clip: rect(1px, 1px, 1px, 1px);height: 1px;margin: -1px;overflow: hidden;padding: 0;position: absolute;width: 1px;}#sk-container-id-1 div.sk-estimator {font-family: monospace;background-color: #f0f8ff;border: 1px dotted black;border-radius: 0.25em;box-sizing: border-box;margin-bottom: 0.5em;}#sk-container-id-1 div.sk-estimator:hover {background-color: #d4ebff;}#sk-container-id-1 div.sk-parallel-item::after {content: \"\";width: 100%;border-bottom: 1px solid gray;flex-grow: 1;}#sk-container-id-1 div.sk-label:hover label.sk-toggleable__label {background-color: #d4ebff;}#sk-container-id-1 div.sk-serial::before {content: \"\";position: absolute;border-left: 1px solid gray;box-sizing: border-box;top: 0;bottom: 0;left: 50%;z-index: 0;}#sk-container-id-1 div.sk-serial {display: flex;flex-direction: column;align-items: center;background-color: white;padding-right: 0.2em;padding-left: 0.2em;position: relative;}#sk-container-id-1 div.sk-item {position: relative;z-index: 1;}#sk-container-id-1 div.sk-parallel {display: flex;align-items: stretch;justify-content: center;background-color: white;position: relative;}#sk-container-id-1 div.sk-item::before, #sk-container-id-1 div.sk-parallel-item::before {content: \"\";position: absolute;border-left: 1px solid gray;box-sizing: border-box;top: 0;bottom: 0;left: 50%;z-index: -1;}#sk-container-id-1 div.sk-parallel-item {display: flex;flex-direction: column;z-index: 1;position: relative;background-color: white;}#sk-container-id-1 div.sk-parallel-item:first-child::after {align-self: flex-end;width: 50%;}#sk-container-id-1 div.sk-parallel-item:last-child::after {align-self: flex-start;width: 50%;}#sk-container-id-1 div.sk-parallel-item:only-child::after {width: 0;}#sk-container-id-1 div.sk-dashed-wrapped {border: 1px dashed gray;margin: 0 0.4em 0.5em 0.4em;box-sizing: border-box;padding-bottom: 0.4em;background-color: white;}#sk-container-id-1 div.sk-label label {font-family: monospace;font-weight: bold;display: inline-block;line-height: 1.2em;}#sk-container-id-1 div.sk-label-container {text-align: center;}#sk-container-id-1 div.sk-container {/* jupyter's `normalize.less` sets `[hidden] { display: none; }` but bootstrap.min.css set `[hidden] { display: none !important; }` so we also need the `!important` here to be able to override the default hidden behavior on the sphinx rendered scikit-learn.org. See: https://github.com/scikit-learn/scikit-learn/issues/21755 */display: inline-block !important;position: relative;}#sk-container-id-1 div.sk-text-repr-fallback {display: none;}</style><div id=\"sk-container-id-1\" class=\"sk-top-container\"><div class=\"sk-text-repr-fallback\"><pre>LinearRegression()</pre><b>In a Jupyter environment, please rerun this cell to show the HTML representation or trust the notebook. <br />On GitHub, the HTML representation is unable to render, please try loading this page with nbviewer.org.</b></div><div class=\"sk-container\" hidden><div class=\"sk-item\"><div class=\"sk-estimator sk-toggleable\"><input class=\"sk-toggleable__control sk-hidden--visually\" id=\"sk-estimator-id-1\" type=\"checkbox\" checked><label for=\"sk-estimator-id-1\" class=\"sk-toggleable__label sk-toggleable__label-arrow\">LinearRegression</label><div class=\"sk-toggleable__content\"><pre>LinearRegression()</pre></div></div></div></div></div>"
      ],
      "text/plain": [
       "LinearRegression()"
      ]
     },
     "execution_count": 12,
     "metadata": {},
     "output_type": "execute_result"
    }
   ],
   "source": [
    "# Fit the model to the training data\n",
    "regression.fit(X_train, y_train)"
   ]
  },
  {
   "cell_type": "code",
   "execution_count": 13,
   "id": "c20b0c08-6e51-43a4-9f0a-5ed92008ddab",
   "metadata": {},
   "outputs": [],
   "source": [
    "# Predict on the test data\n",
    "y_pred = regression.predict(X_test)"
   ]
  },
  {
   "cell_type": "markdown",
   "id": "5bc6a7cf-e1d6-41f7-b965-3f829a16c714",
   "metadata": {},
   "source": [
    "# 8. Visualize the Results"
   ]
  },
  {
   "cell_type": "markdown",
   "id": "5f34ef24-26c5-41f1-af75-9e38598e9f6e",
   "metadata": {},
   "source": [
    "### Create a plot that shows the regression line on the test set."
   ]
  },
  {
   "cell_type": "code",
   "execution_count": 24,
   "id": "1cdff6cd-c0e7-4075-9442-1cf1bca357dd",
   "metadata": {},
   "outputs": [
    {
     "data": {
      "image/png": "[encoded data removed]",
      "text/plain": [
       "<Figure size 1000x600 with 1 Axes>"
      ]
     },
     "metadata": {},
     "output_type": "display_data"
    }
   ],
   "source": [
    "# Plot actual vs predicted values to visualize model performance\n",
    "plt.figure(figsize=(10, 6))\n",
    "plt.scatter(X_test, y_test, color='green', label='Actual Data')\n",
    "plt.plot(X_test, y_pred, color='red', linewidth=2, label='Regression Line')\n",
    "plt.title('Regression Line on Test Data Set')\n",
    "plt.xlabel('Number of Mentions')\n",
    "plt.ylabel('COVID-19 Deaths')\n",
    "regression_line_test_set = plt.gcf()\n",
    "plt.legend()\n",
    "plt.show()\n",
    "\n"
   ]
  },
  {
   "cell_type": "code",
   "execution_count": 25,
   "id": "d41942ea-c54c-49ab-a6e5-831b636c1dc7",
   "metadata": {},
   "outputs": [],
   "source": [
    "# Export to the \"Visualizations\" folder\n",
    "regression_line_test_set.savefig(os.path.join(path, '04 Analysis', 'Visualizations', 'regression_line_test_set.png'))"
   ]
  },
  {
   "cell_type": "markdown",
   "id": "97c22426-d7cc-4a79-a090-e3f495e126a8",
   "metadata": {},
   "source": [
    "# 9. Interpretation of the Results"
   ]
  },
  {
   "cell_type": "markdown",
   "id": "7a7638e0-c0ba-4e7a-a316-271c465a13bb",
   "metadata": {},
   "source": [
    "### The scatterplot and regression line visualization show a clear positive relationship between the \"Number of Mentions\" of a condition on death certificates and \"COVID-19 Deaths\". \n",
    "### The regression line closely follows the data points, indicating a strong fit."
   ]
  },
  {
   "cell_type": "markdown",
   "id": "d7018321-ac91-4b1f-918b-957117c638b6",
   "metadata": {},
   "source": [
    "# 10. Check Model Performance Statistics"
   ]
  },
  {
   "cell_type": "code",
   "execution_count": 21,
   "id": "70d82d99-ceba-4429-9acb-7706939b1db0",
   "metadata": {},
   "outputs": [
    {
     "name": "stdout",
     "output_type": "stream",
     "text": [
      "Mean Squared Error: 66.74246284301805\n",
      "R2 Score: 0.9752014744793419\n"
     ]
    }
   ],
   "source": [
    "# Calculate the mean squared error (MSE) and R-squared score\n",
    "mse = mean_squared_error(y_test, y_pred)\n",
    "r2 = r2_score(y_test, y_pred)\n",
    "\n",
    "print(f'Mean Squared Error: {mse}')\n",
    "print(f'R2 Score: {r2}')"
   ]
  },
  {
   "cell_type": "markdown",
   "id": "37584481-1146-4f0f-8fde-fd69d17557fd",
   "metadata": {},
   "source": [
    "# 11. Compare the Predicted y Values with the Actual y Values in a Dataframe"
   ]
  },
  {
   "cell_type": "code",
   "execution_count": 22,
   "id": "d91ee199-c6d3-4190-831c-410e48c6ee51",
   "metadata": {},
   "outputs": [],
   "source": [
    " # Create a dataframe to compare actual and predicted values\n",
    "comparison_df = pd.DataFrame({'Actual': y_test, 'Predicted': y_pred})"
   ]
  },
  {
   "cell_type": "code",
   "execution_count": 23,
   "id": "06004b77-fb4c-4e46-bb29-4d99c42652ef",
   "metadata": {},
   "outputs": [
    {
     "name": "stdout",
     "output_type": "stream",
     "text": [
      "    Actual   Predicted\n",
      "0      0.0   -0.126764\n",
      "1     55.0   53.358783\n",
      "2      0.0   -0.126764\n",
      "3      0.0   -0.126764\n",
      "4      0.0   -0.126764\n",
      "5      0.0   -0.126764\n",
      "6      0.0   -0.126764\n",
      "7      0.0   -0.126764\n",
      "8      0.0   -0.126764\n",
      "9      0.0   -0.126764\n",
      "10    20.0   34.591924\n",
      "11    39.0   72.125642\n",
      "12     2.0    7.379979\n",
      "13     3.0    8.318322\n",
      "14     0.0   -0.126764\n",
      "15   330.0  309.526406\n",
      "16     0.0   -0.126764\n",
      "17     0.0   -0.126764\n",
      "18     5.0    6.441636\n",
      "19     6.0    6.441636\n",
      "20     3.0    2.688264\n",
      "21     8.0    0.811579\n",
      "22     0.0   -0.126764\n",
      "23     9.0    0.811579\n",
      "24     0.0   -0.126764\n",
      "25     2.0    6.441636\n",
      "26     0.0   -0.126764\n",
      "27     4.0    1.749921\n",
      "28     0.0   -0.126764\n",
      "29     1.0    4.564950\n",
      "<class 'pandas.core.frame.DataFrame'>\n",
      "RangeIndex: 129168 entries, 0 to 129167\n",
      "Data columns (total 2 columns):\n",
      " #   Column     Non-Null Count   Dtype  \n",
      "---  ------     --------------   -----  \n",
      " 0   Actual     129168 non-null  float64\n",
      " 1   Predicted  129168 non-null  float64\n",
      "dtypes: float64(2)\n",
      "memory usage: 2.0 MB\n",
      "None\n"
     ]
    },
    {
     "data": {
      "text/plain": [
       "(129168, 2)"
      ]
     },
     "execution_count": 23,
     "metadata": {},
     "output_type": "execute_result"
    }
   ],
   "source": [
    "# Verify the results\n",
    "print(comparison_df.head(30))\n",
    "print(comparison_df.info())\n",
    "comparison_df.shape"
   ]
  },
  {
   "cell_type": "markdown",
   "id": "491908db-d5ff-4cbc-8736-96dae04e74d1",
   "metadata": {},
   "source": [
    "# 12. Interpretation"
   ]
  },
  {
   "cell_type": "markdown",
   "id": "74b93853-1a43-4c2a-ae76-3179d534eb56",
   "metadata": {},
   "source": [
    "### The relatively low MSE of 66.75 suggests that the model's predictions are close to the actual values. \n",
    "### A high R-squared score of 0.975 indicates that approximately 97.5% of the variance in \"COVID-19 Deaths\" can be explained by the \"Number of Mentions\" of conditions. \n",
    "### Overall, the statistics indicate that this linear regression model is effective in predicting \"COVID-19 deaths\" based on the \"Number of Mentions\"."
   ]
  },
  {
   "cell_type": "markdown",
   "id": "b203023f-b898-4485-9a87-8c8c4ab54ba2",
   "metadata": {},
   "source": [
    "# END"
   ]
  }
 ],
 "metadata": {
  "kernelspec": {
   "display_name": "Python 3 (ipykernel)",
   "language": "python",
   "name": "python3"
  },
  "language_info": {
   "codemirror_mode": {
    "name": "ipython",
    "version": 3
   },
   "file_extension": ".py",
   "mimetype": "text/x-python",
   "name": "python",
   "nbconvert_exporter": "python",
   "pygments_lexer": "ipython3",
   "version": "3.11.7"
  }
 },
 "nbformat": 4,
 "nbformat_minor": 5
}
